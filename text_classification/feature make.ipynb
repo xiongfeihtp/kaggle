{
 "cells": [
  {
   "cell_type": "code",
   "execution_count": 9,
   "metadata": {},
   "outputs": [],
   "source": [
    "#feature make\n",
    "import json\n",
    "from tqdm import tqdm\n",
    "import numpy as np\n",
    "from collections import Counter"
   ]
  },
  {
   "cell_type": "code",
   "execution_count": 19,
   "metadata": {},
   "outputs": [],
   "source": [
    "with open('pre_train.json','r') as f_train,open('pre_test.json','r') as f_test:\n",
    "    pre_train=json.load(f_train)\n",
    "    pre_test=json.load(f_test)"
   ]
  },
  {
   "cell_type": "code",
   "execution_count": 22,
   "metadata": {},
   "outputs": [
    {
     "name": "stderr",
     "output_type": "stream",
     "text": [
      "  5%|▍         | 7587/159571 [00:00<00:04, 33145.87it/s]"
     ]
    },
    {
     "name": "stdout",
     "output_type": "stream",
     "text": [
      "None item\n",
      "None item\n"
     ]
    },
    {
     "name": "stderr",
     "output_type": "stream",
     "text": [
      " 15%|█▍        | 23161/159571 [00:00<00:03, 37442.67it/s]"
     ]
    },
    {
     "name": "stdout",
     "output_type": "stream",
     "text": [
      "None item\n",
      "None item\n",
      "None item\n",
      "None item\n",
      "None item\n",
      "None item\n",
      "None item\n"
     ]
    },
    {
     "name": "stderr",
     "output_type": "stream",
     "text": [
      " 22%|██▏       | 35573/159571 [00:00<00:03, 39730.17it/s]"
     ]
    },
    {
     "name": "stdout",
     "output_type": "stream",
     "text": [
      "None item\n",
      "None item\n",
      "None item\n",
      "None item\n",
      "None item\n",
      "None item\n"
     ]
    },
    {
     "name": "stderr",
     "output_type": "stream",
     "text": [
      " 31%|███       | 48950/159571 [00:01<00:02, 42765.15it/s]"
     ]
    },
    {
     "name": "stdout",
     "output_type": "stream",
     "text": [
      "None item\n",
      "None item\n",
      "None item\n",
      "None item\n",
      "None item\n",
      "None item\n"
     ]
    },
    {
     "name": "stderr",
     "output_type": "stream",
     "text": [
      " 36%|███▌      | 57553/159571 [00:01<00:02, 42422.85it/s]"
     ]
    },
    {
     "name": "stdout",
     "output_type": "stream",
     "text": [
      "None item\n",
      "None item\n",
      "None item\n",
      "None item\n",
      "None item\n",
      "None item\n",
      "None item"
     ]
    },
    {
     "name": "stderr",
     "output_type": "stream",
     "text": [
      " 47%|████▋     | 74772/159571 [00:01<00:02, 37812.34it/s]"
     ]
    },
    {
     "name": "stdout",
     "output_type": "stream",
     "text": [
      "\n",
      "None item\n",
      "None item\n",
      "None item\n",
      "None item\n",
      "None item\n",
      "None item\n",
      "None item\n"
     ]
    },
    {
     "name": "stderr",
     "output_type": "stream",
     "text": [
      " 52%|█████▏    | 83094/159571 [00:02<00:01, 39598.15it/s]"
     ]
    },
    {
     "name": "stdout",
     "output_type": "stream",
     "text": [
      "None item\n",
      "None item\n",
      "None item\n",
      "None item\n",
      "None item\n",
      "None item\n",
      "None item\n",
      "None item\n",
      "None item\n",
      "None item\n"
     ]
    },
    {
     "name": "stderr",
     "output_type": "stream",
     "text": [
      " 63%|██████▎   | 99769/159571 [00:02<00:01, 41348.34it/s]"
     ]
    },
    {
     "name": "stdout",
     "output_type": "stream",
     "text": [
      "None item\n",
      "None item\n",
      "None item\n",
      "None item\n",
      "None item\n",
      "None item\n",
      "None item\n",
      "None item\n"
     ]
    },
    {
     "name": "stderr",
     "output_type": "stream",
     "text": [
      " 71%|███████   | 113123/159571 [00:02<00:01, 42732.40it/s]"
     ]
    },
    {
     "name": "stdout",
     "output_type": "stream",
     "text": [
      "None item\n",
      "None item\n",
      "None item\n",
      "None item\n",
      "None item\n"
     ]
    },
    {
     "name": "stderr",
     "output_type": "stream",
     "text": [
      " 76%|███████▋  | 122004/159571 [00:03<00:00, 42097.74it/s]"
     ]
    },
    {
     "name": "stdout",
     "output_type": "stream",
     "text": [
      "None item\n",
      "None item\n",
      "None item\n"
     ]
    },
    {
     "name": "stderr",
     "output_type": "stream",
     "text": [
      " 91%|█████████ | 144539/159571 [00:03<00:00, 44917.88it/s]"
     ]
    },
    {
     "name": "stdout",
     "output_type": "stream",
     "text": [
      "None item\n",
      "None item\n",
      "None item\n",
      "None item\n",
      "None item\n",
      "None item\n",
      "None item\n",
      "None item\n",
      "None item\n",
      "None item\n"
     ]
    },
    {
     "name": "stderr",
     "output_type": "stream",
     "text": [
      " 96%|█████████▌| 153557/159571 [00:03<00:00, 43977.20it/s]"
     ]
    },
    {
     "name": "stdout",
     "output_type": "stream",
     "text": [
      "None item\n",
      "None item\n",
      "None item\n"
     ]
    },
    {
     "name": "stderr",
     "output_type": "stream",
     "text": [
      "100%|██████████| 159571/159571 [00:03<00:00, 40140.19it/s]\n"
     ]
    }
   ],
   "source": [
    "tf_feature_train={}                 \n",
    "from collections import Counter\n",
    "from tqdm import tqdm\n",
    "filter_None=[]\n",
    "for id,item in tqdm(pre_train.items()):\n",
    "    word_list=item['pre_context'].replace('#',' ').split()\n",
    "    word_count=Counter(word_list)    \n",
    "    word_set=set(word_list)\n",
    "    tf_list=[word_count[word] for word in word_set]\n",
    "    try:\n",
    "        tf_feature_train[id]=[max(tf_list),max(tf_list)/len(word_list)]\n",
    "    except Exception as e:\n",
    "        filter_None.append(id)\n",
    "        print('None item')"
   ]
  },
  {
   "cell_type": "code",
   "execution_count": 23,
   "metadata": {},
   "outputs": [
    {
     "name": "stdout",
     "output_type": "stream",
     "text": [
      "276276708a348195 {'context': 'So do it. 201.215.187.159', 'label': '[0 0 0 0 0 0]'}\n",
      "d56d11be34f60292 {'context': 'Some 1 should 216.237.210.43', 'label': '[0 0 0 0 0 0]'}\n",
      "3e241552b0386ac4 {'context': 'between 1991 and 1999', 'label': '[0 0 0 0 0 0]'}\n",
      "2db3383cc656e1a0 {'context': '~ \\n\\n68.193.147.157', 'label': '[0 0 0 0 0 0]'}\n",
      "efc3c00d27528857 {'context': 'what should i do? \\n\\n?????', 'label': '[0 0 0 0 0 0]'}\n",
      "4a30483c5c1ecec3 {'context': 'There, now will you D', 'label': '[0 0 0 0 0 0]'}\n",
      "99c87b34227da6ff {'context': 'What what what what is this ???', 'label': '[0 0 0 0 0 0]'}\n",
      "528b079a22ccbfb0 {'context': '!!!!!\\nWhat is all of this.', 'label': '[0 0 0 0 0 0]'}\n",
      "a544b25e60599d48 {'context': '\"\\n\\n 199.209.144.211  \"', 'label': '[0 0 0 0 0 0]'}\n",
      "62d249ccf9e47aac {'context': '\"\\nHow about that?.   ☥  \\n\"', 'label': '[0 0 0 0 0 0]'}\n",
      "0aa6f3529219b37e {'context': 'From here\\n\\nFrom here 160.80.2.8', 'label': '[0 0 0 0 0 0]'}\n",
      "dd2be480f1027692 {'context': '\"\\n \\'\\'\\'\\'\\'\\' 2010/2013 \"', 'label': '[0 0 0 0 0 0]'}\n",
      "c7fbcdcd277d6d81 {'context': 'You to. 82.132.218.163', 'label': '[0 0 0 0 0 0]'}\n",
      "73922d50afbc0c98 {'context': 'What? Who? Where? When? Why?99.141.241.135', 'label': '[0 0 0 0 0 0]'}\n",
      "813bed65fd893a9c {'context': 'What 24.119.163.71', 'label': '[0 0 0 0 0 0]'}\n",
      "dd5ac2c49ec34efa {'context': '~ J.Lo', 'label': '[0 0 0 0 0 0]'}\n",
      "f76021a84e196d98 {'context': \"Why don't you do it? 24.68.148.215\", 'label': '[0 0 0 0 0 0]'}\n",
      "fd3d492e7a3ca27c {'context': 'them both. That was just', 'label': '[0 0 0 0 0 0]'}\n",
      "abd332a18b7b1877 {'context': 'or 2H2O(aq) → 2H2(g) + O2(g)', 'label': '[0 0 0 0 0 0]'}\n",
      "8c4c53001134f290 {'context': '14:53,', 'label': '[0 0 0 0 0 0]'}\n",
      "45e78dd7ff3c36c5 {'context': 'than just on/off such as on/off/', 'label': '[0 0 0 0 0 0]'}\n",
      "4f43fc08d0b48b0f {'context': '\"\"\"WE WHO IS WE IT IS YOU\"\" ve\"', 'label': '[0 0 0 0 0 0]'}\n",
      "a6f752599189cf18 {'context': 'Why? \\n\\nWhy did you do that?', 'label': '[0 0 0 0 0 0]'}\n",
      "1776b3bcff81788b {'context': 'What is I 78.146.102.144', 'label': '[0 0 0 0 0 0]'}\n",
      "c8074ccfc208cabc {'context': 'P \\n\\n E \\n\\n N \\n\\n I \\n\\n == S ==', 'label': '[1 0 1 0 0 0]'}\n",
      "d2c672526b626468 {'context': 'Ha\\nHa ha ha ha ha!', 'label': '[0 0 0 0 0 0]'}\n",
      "4d3c04be61dedcdd {'context': \"I'm with ya!69.243.42.251\", 'label': '[0 0 0 0 0 0]'}\n",
      "18ed60f8e586bcbd {'context': 'They do too.  their ... -', 'label': '[0 0 0 0 0 0]'}\n",
      "7dc0ba6433d1c182 {'context': 'and then 70.8.194.249', 'label': '[0 0 0 0 0 0]'}\n",
      "1251bdcfbe0dba3d {'context': 'Ok, I will do it.200.216.63.82', 'label': '[0 0 0 0 0 0]'}\n",
      "8fb2aaf04e93061a {'context': '92.24.199.233|92.24.199.233]]', 'label': '[0 0 0 0 0 0]'}\n",
      "afd7f25dc1ad7f4c {'context': \"That's not me.202.156.13.11\", 'label': '[0 0 0 0 0 0]'}\n",
      "44110b3046e7f066 {'context': ', so 200,000 is about 0.3 of that.', 'label': '[0 0 0 0 0 0]'}\n",
      "43b42cd46291d099 {'context': 'What is it and where is it?', 'label': '[0 0 0 0 0 0]'}\n",
      "c2bc975118e6ac04 {'context': 'oh no, here we go again', 'label': '[0 0 0 0 0 0]'}\n",
      "067638a445ccd93b {'context': 'Here, here and here.', 'label': '[0 0 0 0 0 0]'}\n",
      "43c61a741cb87cbe {'context': \"Shouldn't this be NO3 not No3?\", 'label': '[0 0 0 0 0 0]'}\n",
      "fb0172f327cd8daa {'context': ', we all have our own,', 'label': '[0 0 0 0 0 0]'}\n",
      "cd339e4911c8dd72 {'context': \"Oh no you don't. F&CK;!\", 'label': '[1 0 1 0 0 0]'}\n",
      "dde39a8854166423 {'context': 'from 3:40PM - 10:30PM (ET)', 'label': '[0 0 0 0 0 0]'}\n",
      "6f21137fea16923a {'context': \", and you cannot because there isn't any\", 'label': '[0 0 0 0 0 0]'}\n",
      "e429cdebdceed2a2 {'context': 'or where?86.160.60.82', 'label': '[0 0 0 0 0 0]'}\n",
      "9cf831a216d88813 {'context': '\"\\n\\nAnd so what\\'s this?\\n\"', 'label': '[0 0 0 0 0 0]'}\n",
      "10304d5db5fb5821 {'context': 'n i g g e r f a g g o t', 'label': '[1 1 0 0 0 1]'}\n",
      "c006239fbff791e0 {'context': 'No, they are not.', 'label': '[0 0 0 0 0 0]'}\n",
      "8e29eaa46c25bb44 {'context': 'P ==\\n\\n E \\n\\n N \\n\\n I \\n\\n S \\n\\n==', 'label': '[1 0 1 0 0 0]'}\n",
      "2c6b162ebc5f59d5 {'context': '\"\\n\\n Where are you? \\n\\nWhere have you been? \\'\\'\\'8235\\'\\'\\' \"', 'label': '[0 0 0 0 0 0]'}\n",
      "664baa9268a34574 {'context': 'what \\n\\nwhy did you do that!!', 'label': '[0 0 0 0 0 0]'}\n",
      "a63561c779ba7ca4 {'context': 'You \\n\\nAre an *****le!', 'label': '[1 0 0 0 1 0]'}\n",
      "9af7112c4d554edb {'context': 'which is OVER 9000 OVER 9000 OVER 9000 OVER 9000 OVER 9000 OVER 9000 OVER 9000 OVER 9000 OVER 9000 OVER 9000 OVER 9000 OVER 9000 OVER 9000 OVER 9000 OVER 9000 OVER 9000 OVER 9000 OVER 9000 OVER 9000 OVER 9000 OVER 9000 OVER 9000 OVER 9000 OVER 9000 OVER 9000 OVER 9000 OVER 9000 OVER 9000 OVER 9000 OVER 9000 OVER 9000 OVER 9000 OVER 9000 OVER 9000 OVER 9000 OVER 9000 OVER 9000 OVER 9000 OVER 9000 OVER 9000 OVER 9000 OVER 9000 OVER 9000 OVER 9000 OVER 9000 OVER 9000 OVER 9000 OVER 9000 OVER 9000 OVER 9000 OVER 9000 OVER 9000 OVER 9000 OVER 9000 OVER 9000 OVER 9000 OVER 9000 OVER 9000 OVER 9000 OVER 9000 OVER 9000 OVER 9000 OVER 9000 OVER 9000 OVER 9000 OVER 9000 OVER 9000 OVER 9000 OVER 9000 OVER 9000 OVER 9000 OVER 9000 OVER 9000 OVER 9000 OVER 9000 OVER 9000 OVER 9000 OVER 9000 OVER 9000 OVER 9000 OVER 9000 OVER 9000 OVER 9000 OVER 9000 OVER 9000 OVER 9000 OVER 9000 OVER 9000 OVER 9000 OVER 9000 OVER 9000 OVER 9000 OVER 9000 OVER 9000 OVER 9000 OVER 9000 OVER 9000 OVER 9000 OVER 9000 OVER 9000 OVER 9000 OVER 9000 OVER 9000 OVER 9000 OVER 9000 OVER 9000 OVER 9000 OVER 9000 OVER 9000 OVER 9000 OVER 9000 OVER 9000 OVER 9000 OVER 9000 OVER 9000 OVER 9000 OVER 9000 OVER 9000 OVER 9000 OVER 9000 OVER 9000 OVER 9000 OVER 9000 OVER 9000 OVER 9000 OVER 9000 OVER 9000 OVER 9000 OVER 9000 OVER 9000 OVER 9000 OVER 9000 OVER 9000 OVER 9000 OVER 9000 OVER 9000 OVER 9000 OVER 9000 OVER 9000 OVER 9000 OVER 9000 OVER 9000 OVER 9000 OVER 9000 OVER 9000 OVER 9000 OVER 9000', 'label': '[0 0 0 0 0 0]'}\n",
      "20f1529e0c0734cb {'context': \"You're just at it again!\", 'label': '[0 0 0 0 0 0]'}\n",
      "5518511d0c3faa37 {'context': '\"\\nNo, they DON\\'T! \\xa0\\xa0 \"', 'label': '[0 0 0 0 0 0]'}\n",
      "b42cd6a9a359b3cb {'context': 'F . U . C . K . \\nY . O . U', 'label': '[1 0 1 0 1 0]'}\n",
      "10d0c3263b52a057 {'context': '193.61.111.53  15:00', 'label': '[0 0 0 0 0 0]'}\n",
      "bbaae43f9de66e20 {'context': '\"\\nWhat\\'s \"\"What? No.\"\" ? 87.36.25.39  \"', 'label': '[0 0 0 0 0 0]'}\n",
      "63cd220914177036 {'context': 'Hi! \\n\\nHi, SG! 134.241.58.253', 'label': '[0 0 0 0 0 0]'}\n",
      "05ed58e121e139b5 {'context': 'Why so? 70.121.33.78', 'label': '[0 0 0 0 0 0]'}\n",
      "0bed2196c873636d {'context': '1993\\n\\n1994\\n\\n1995\\n\\n1996\\n\\n1997\\n\\n1998\\n\\n1999\\n\\n2000\\n\\n2001\\n\\n2002\\n\\n2003', 'label': '[0 0 0 0 0 0]'}\n",
      "9aa98f88036d0a66 {'context': 'And how do I do that?', 'label': '[0 0 0 0 0 0]'}\n",
      "3d09050e81205163 {'context': 'Where was it before?', 'label': '[0 0 0 0 0 0]'}\n",
      "6500d08d06472d89 {'context': '\"\\nWhat\\'s \"\"your\"\"? 68.45.180.34  \"', 'label': '[0 0 0 0 0 0]'}\n",
      "f30b73bc025877b8 {'context': 'hi \\n\\nwho is this 65.7.162.38', 'label': '[0 0 0 0 0 0]'}\n",
      "ac14106a1572f89f {'context': 'WHAT DID I D!!!!!!!!!!!!!!!!!!!!!O', 'label': '[0 0 0 0 0 0]'}\n",
      "2017b61ee36ca39e {'context': \"he's not 142.162.207.62\", 'label': '[0 0 0 0 0 0]'}\n",
      "92f864a4cf6d7ee3 {'context': 'SAME FOR THIS 166.137.240.20', 'label': '[0 0 0 0 0 0]'}\n",
      "7c1a57063b5c14d5 {'context': '10 - 2010 04 08 to 2010 05 12', 'label': '[0 0 0 0 0 0]'}\n",
      "b2505fa456ab8895 {'context': 'What are you on about?', 'label': '[0 0 0 0 0 0]'}\n",
      "dc05e79cd9a50e0d {'context': 'have\\n               with them.', 'label': '[0 0 0 0 0 0]'}\n",
      "fc07c300533d28e4 {'context': 'What... \\n...are you doing and why? 141.91.136.40', 'label': '[0 0 0 0 0 0]'}\n",
      "5c74c6583e2a5803 {'context': 'f u c k  y o u  a s  u  a r e  a  b i t c h  a s s  n i g g e r', 'label': '[1 0 1 0 1 1]'}\n",
      "1b6138b7f9fd87cb {'context': '[24 and 25, after 23]', 'label': '[0 0 0 0 0 0]'}\n",
      "a11cb7150bca79a1 {'context': 'Me too! 95.247.163.50', 'label': '[0 0 0 0 0 0]'}\n",
      "7459f4532fe90e2f {'context': '04:59, 22 Au', 'label': '[0 0 0 0 0 0]'}\n",
      "5352b339650c4138 {'context': 'she did 76.122.79.82', 'label': '[0 0 0 0 0 0]'}\n"
     ]
    }
   ],
   "source": [
    "with open('./train.json','r') as f_train:\n",
    "    raw_train=json.load(f_train)\n",
    "    for item in filter_None:\n",
    "        print(item,raw_train[item])"
   ]
  },
  {
   "cell_type": "code",
   "execution_count": 5,
   "metadata": {},
   "outputs": [],
   "source": [
    "train_document_alllen_count=Counter()\n",
    "train_document_len_count=Counter()\n",
    "train_word_len_count=Counter()\n",
    "test_document_len_count=Counter()\n",
    "test_document_alllen_count=Counter()\n",
    "test_word_len_count=Counter()\n",
    "# train_document_len_count=[]\n",
    "# train_word_len_count=[]\n",
    "# test_document_len_count=[]\n",
    "# test_word_len_count=[]"
   ]
  },
  {
   "cell_type": "code",
   "execution_count": 4,
   "metadata": {},
   "outputs": [
    {
     "name": "stderr",
     "output_type": "stream",
     "text": [
      "  0%|          | 0/159571 [00:00<?, ?it/s]\n"
     ]
    },
    {
     "ename": "NameError",
     "evalue": "name 'train_document_len_count' is not defined",
     "traceback": [
      "\u001b[0;31m---------------------------------------------------------------------------\u001b[0m",
      "\u001b[0;31mNameError\u001b[0m                                 Traceback (most recent call last)",
      "\u001b[0;32m<ipython-input-4-f7bdd52bc234>\u001b[0m in \u001b[0;36m<module>\u001b[0;34m()\u001b[0m\n\u001b[1;32m      1\u001b[0m \u001b[0;32mfor\u001b[0m \u001b[0mid\u001b[0m\u001b[0;34m,\u001b[0m \u001b[0mitem\u001b[0m \u001b[0;32min\u001b[0m \u001b[0mtqdm\u001b[0m\u001b[0;34m(\u001b[0m\u001b[0mpre_train\u001b[0m\u001b[0;34m.\u001b[0m\u001b[0mitems\u001b[0m\u001b[0;34m(\u001b[0m\u001b[0;34m)\u001b[0m\u001b[0;34m)\u001b[0m\u001b[0;34m:\u001b[0m\u001b[0;34m\u001b[0m\u001b[0m\n\u001b[1;32m      2\u001b[0m     \u001b[0mword_list\u001b[0m\u001b[0;34m=\u001b[0m\u001b[0mitem\u001b[0m\u001b[0;34m[\u001b[0m\u001b[0;34m'pre_context'\u001b[0m\u001b[0;34m]\u001b[0m\u001b[0;34m.\u001b[0m\u001b[0mreplace\u001b[0m\u001b[0;34m(\u001b[0m\u001b[0;34m'#'\u001b[0m\u001b[0;34m,\u001b[0m\u001b[0;34m' '\u001b[0m\u001b[0;34m)\u001b[0m\u001b[0;34m.\u001b[0m\u001b[0msplit\u001b[0m\u001b[0;34m(\u001b[0m\u001b[0;34m' '\u001b[0m\u001b[0;34m)\u001b[0m\u001b[0;34m\u001b[0m\u001b[0m\n\u001b[0;32m----> 3\u001b[0;31m     \u001b[0mtrain_document_len_count\u001b[0m\u001b[0;34m.\u001b[0m\u001b[0mupdate\u001b[0m\u001b[0;34m(\u001b[0m\u001b[0;34m[\u001b[0m\u001b[0mlen\u001b[0m\u001b[0;34m(\u001b[0m\u001b[0mword_list\u001b[0m\u001b[0;34m)\u001b[0m\u001b[0;34m]\u001b[0m\u001b[0;34m)\u001b[0m\u001b[0;34m\u001b[0m\u001b[0m\n\u001b[0m\u001b[1;32m      4\u001b[0m     \u001b[0;32mif\u001b[0m \u001b[0mlen\u001b[0m\u001b[0;34m(\u001b[0m\u001b[0mword_list\u001b[0m\u001b[0;34m)\u001b[0m\u001b[0;34m>\u001b[0m\u001b[0;36m700\u001b[0m\u001b[0;34m:\u001b[0m\u001b[0;34m\u001b[0m\u001b[0m\n\u001b[1;32m      5\u001b[0m         \u001b[0mprint\u001b[0m\u001b[0;34m(\u001b[0m\u001b[0mitem\u001b[0m\u001b[0;34m,\u001b[0m\u001b[0mid\u001b[0m\u001b[0;34m)\u001b[0m\u001b[0;34m\u001b[0m\u001b[0m\n",
      "\u001b[0;31mNameError\u001b[0m: name 'train_document_len_count' is not defined"
     ],
     "output_type": "error"
    }
   ],
   "source": [
    "for id, item in tqdm(pre_train.items()):\n",
    "    word_list=item['pre_context'].replace('#',' ').split(' ')\n",
    "    train_document_len_count.update([len(word_list)])\n",
    "    if len(word_list)>700:\n",
    "        print(item,id)\n",
    "    [train_word_len_count.update([len(word)]) for word in word_list]"
   ]
  },
  {
   "cell_type": "code",
   "execution_count": 35,
   "metadata": {},
   "outputs": [
    {
     "name": "stderr",
     "output_type": "stream",
     "text": [
      "100%|██████████| 153164/153164 [00:01<00:00, 105201.99it/s]\n"
     ]
    }
   ],
   "source": [
    "for id, item in tqdm(pre_test.items()):\n",
    "    word_list=item['pre_context'].replace('#',' ').split(' ')\n",
    "    test_document_len_count.update([len(word_list)])\n",
    "    [test_word_len_count.update([len(word)]) for word in word_list]"
   ]
  },
  {
   "cell_type": "code",
   "execution_count": 8,
   "metadata": {},
   "outputs": [
    {
     "data": {
      "text/plain": [
       "<function str.split>"
      ]
     },
     "execution_count": 8,
     "metadata": {},
     "output_type": "execute_result"
    }
   ],
   "source": [
    "pre_train['3a14d2c89cb7d2f4']['pre_context'].replace('#',' ').split"
   ]
  },
  {
   "cell_type": "code",
   "execution_count": 1,
   "metadata": {},
   "outputs": [
    {
     "ename": "NameError",
     "evalue": "name 'train_document_len_count' is not defined",
     "traceback": [
      "\u001b[0;31m---------------------------------------------------------------------------\u001b[0m",
      "\u001b[0;31mNameError\u001b[0m                                 Traceback (most recent call last)",
      "\u001b[0;32m<ipython-input-1-ff5c0dfabc82>\u001b[0m in \u001b[0;36m<module>\u001b[0;34m()\u001b[0m\n\u001b[0;32m----> 1\u001b[0;31m \u001b[0mcounter_document_len\u001b[0m\u001b[0;34m=\u001b[0m\u001b[0mtrain_document_len_count\u001b[0m\u001b[0;34m|\u001b[0m\u001b[0mtest_document_len_count\u001b[0m\u001b[0;34m\u001b[0m\u001b[0m\n\u001b[0m\u001b[1;32m      2\u001b[0m \u001b[0mcounter_word_len\u001b[0m\u001b[0;34m=\u001b[0m\u001b[0mtrain_word_len_count\u001b[0m\u001b[0;34m|\u001b[0m\u001b[0mtest_word_len_count\u001b[0m\u001b[0;34m\u001b[0m\u001b[0m\n",
      "\u001b[0;31mNameError\u001b[0m: name 'train_document_len_count' is not defined"
     ],
     "output_type": "error"
    }
   ],
   "source": [
    "counter_document_len=train_document_len_count|test_document_len_count\n",
    "counter_word_len=train_word_len_count|test_word_len_count"
   ]
  },
  {
   "cell_type": "code",
   "execution_count": 10,
   "metadata": {},
   "outputs": [
    {
     "ename": "NameError",
     "evalue": "name 'counter_document_len' is not defined",
     "traceback": [
      "\u001b[0;31m---------------------------------------------------------------------------\u001b[0m",
      "\u001b[0;31mNameError\u001b[0m                                 Traceback (most recent call last)",
      "\u001b[0;32m<ipython-input-10-76bb54996a65>\u001b[0m in \u001b[0;36m<module>\u001b[0;34m()\u001b[0m\n\u001b[0;32m----> 1\u001b[0;31m \u001b[0mcounter_document_len\u001b[0m\u001b[0;34m\u001b[0m\u001b[0m\n\u001b[0m",
      "\u001b[0;31mNameError\u001b[0m: name 'counter_document_len' is not defined"
     ],
     "output_type": "error"
    }
   ],
   "source": [
    "counter_document_len"
   ]
  },
  {
   "cell_type": "code",
   "execution_count": 6,
   "metadata": {},
   "outputs": [
    {
     "name": "stderr",
     "output_type": "stream",
     "text": [
      "100%|██████████| 159571/159571 [00:00<00:00, 167950.58it/s]\n",
      "100%|██████████| 153164/153164 [00:00<00:00, 809671.93it/s]\n"
     ]
    }
   ],
   "source": [
    "#转换样本格式,list\n",
    "pre_train_list=[]\n",
    "pre_train_label=[]\n",
    "pre_test_list=[]\n",
    "for id, item in tqdm(pre_train.items()):\n",
    "    pre_train_list.append(item['pre_context'].replace('#',' '))\n",
    "    label_list=[]\n",
    "    for i in range(1,13,2):\n",
    "        label_list.append(int(item['label'][i]))\n",
    "        pre_train_label.append(label_list)\n",
    "for id, item in tqdm(pre_test.items()):\n",
    "    pre_test_list.append(item['pre_context'].replace('#',' '))"
   ]
  },
  {
   "cell_type": "code",
   "execution_count": 50,
   "metadata": {},
   "outputs": [
    {
     "ename": "ValueError",
     "evalue": "max() arg is an empty sequence",
     "traceback": [
      "\u001b[0;31m---------------------------------------------------------------------------\u001b[0m",
      "\u001b[0;31mValueError\u001b[0m                                Traceback (most recent call last)",
      "\u001b[0;32m<ipython-input-50-79589617d6fe>\u001b[0m in \u001b[0;36m<module>\u001b[0;34m()\u001b[0m\n\u001b[1;32m      6\u001b[0m     \u001b[0mword_set\u001b[0m\u001b[0;34m=\u001b[0m\u001b[0mset\u001b[0m\u001b[0;34m(\u001b[0m\u001b[0mword_list\u001b[0m\u001b[0;34m)\u001b[0m\u001b[0;34m\u001b[0m\u001b[0m\n\u001b[1;32m      7\u001b[0m     \u001b[0mword_tf\u001b[0m\u001b[0;34m=\u001b[0m\u001b[0;34m[\u001b[0m\u001b[0mword_count\u001b[0m\u001b[0;34m[\u001b[0m\u001b[0mword\u001b[0m\u001b[0;34m]\u001b[0m \u001b[0;32mfor\u001b[0m \u001b[0mword\u001b[0m \u001b[0;32min\u001b[0m \u001b[0mword_set\u001b[0m\u001b[0;34m]\u001b[0m\u001b[0;34m\u001b[0m\u001b[0m\n\u001b[0;32m----> 8\u001b[0;31m     \u001b[0mfeature_tf\u001b[0m\u001b[0;34m.\u001b[0m\u001b[0mappend\u001b[0m\u001b[0;34m(\u001b[0m\u001b[0mmax\u001b[0m\u001b[0;34m(\u001b[0m\u001b[0mword_tf\u001b[0m\u001b[0;34m)\u001b[0m\u001b[0;34m/\u001b[0m\u001b[0msum\u001b[0m\u001b[0;34m(\u001b[0m\u001b[0mword_count\u001b[0m\u001b[0;34m.\u001b[0m\u001b[0mvalues\u001b[0m\u001b[0;34m(\u001b[0m\u001b[0;34m)\u001b[0m\u001b[0;34m)\u001b[0m\u001b[0;34m)\u001b[0m\u001b[0;34m\u001b[0m\u001b[0m\n\u001b[0m",
      "\u001b[0;31mValueError\u001b[0m: max() arg is an empty sequence"
     ],
     "output_type": "error"
    }
   ],
   "source": [
    "# feature one max_tf\n",
    "feature_tf=[]\n",
    "for item in pre_train_list:\n",
    "    try:\n",
    "        word_list=item.split()\n",
    "        word_count=Counter(word_list)\n",
    "        word_set=set(word_list)\n",
    "        word_tf=[word_count[word] for word in word_set]\n",
    "        feature_tf.append(max(word_tf)/sum(word_count.values()))\n",
    "    except Exception as e:"
   ]
  },
  {
   "cell_type": "code",
   "execution_count": 11,
   "metadata": {},
   "outputs": [],
   "source": [
    "with open('./datapreprocess/pre_train_none_clear.json','r') as f_train, \\\n",
    "        open('./datapreprocess/pre_test_none_clear.json','r') as f_test:\n",
    "    train_data=json.load(f_train)\n",
    "    test_data=json.load(f_test)"
   ]
  },
  {
   "cell_type": "code",
   "execution_count": 13,
   "metadata": {},
   "outputs": [
    {
     "name": "stderr",
     "output_type": "stream",
     "text": [
      " 48%|████▊     | 76040/159571 [00:02<00:03, 22855.89it/s]"
     ]
    },
    {
     "name": "stdout",
     "output_type": "stream",
     "text": [
      "None item\n"
     ]
    },
    {
     "name": "stderr",
     "output_type": "stream",
     "text": [
      " 51%|█████     | 81471/159571 [00:03<00:03, 24923.32it/s]"
     ]
    },
    {
     "name": "stdout",
     "output_type": "stream",
     "text": [
      "None item\n",
      "None item\n"
     ]
    },
    {
     "name": "stderr",
     "output_type": "stream",
     "text": [
      " 60%|█████▉    | 95290/159571 [00:03<00:02, 27081.70it/s]"
     ]
    },
    {
     "name": "stdout",
     "output_type": "stream",
     "text": [
      "None item\n"
     ]
    },
    {
     "name": "stderr",
     "output_type": "stream",
     "text": [
      " 84%|████████▍ | 134489/159571 [00:05<00:00, 27970.36it/s]"
     ]
    },
    {
     "name": "stdout",
     "output_type": "stream",
     "text": [
      "None item\n"
     ]
    },
    {
     "name": "stderr",
     "output_type": "stream",
     "text": [
      " 91%|█████████▏| 145957/159571 [00:05<00:00, 27350.38it/s]"
     ]
    },
    {
     "name": "stdout",
     "output_type": "stream",
     "text": [
      "None item\n"
     ]
    },
    {
     "name": "stderr",
     "output_type": "stream",
     "text": [
      " 98%|█████████▊| 156998/159571 [00:05<00:00, 26073.48it/s]"
     ]
    },
    {
     "name": "stdout",
     "output_type": "stream",
     "text": [
      "None item\n"
     ]
    },
    {
     "name": "stderr",
     "output_type": "stream",
     "text": [
      "100%|██████████| 159571/159571 [00:05<00:00, 26833.77it/s]\n"
     ]
    }
   ],
   "source": [
    "tf_feature_train={}                 \n",
    "from collections import Counter\n",
    "from tqdm import tqdm\n",
    "filter_None=[]\n",
    "for id,item in tqdm(train_data.items()):\n",
    "    word_list=item['pre_context'].replace('#',' ').split()\n",
    "    word_count=Counter(word_list)    \n",
    "    word_set=set(word_list)\n",
    "    tf_list=[word_count[word] for word in word_set]\n",
    "    try:\n",
    "        tf_feature_train[id]=[max(tf_list),max(tf_list)/len(word_list)]\n",
    "    except Exception as e:\n",
    "        filter_None.append(id)\n",
    "        print('None item')"
   ]
  },
  {
   "cell_type": "code",
   "execution_count": 14,
   "metadata": {},
   "outputs": [
    {
     "data": {
      "text/plain": [
       "['dd2be480f1027692',\n",
       " '2db3383cc656e1a0',\n",
       " 'a544b25e60599d48',\n",
       " '0bed2196c873636d',\n",
       " '8fb2aaf04e93061a',\n",
       " '8c4c53001134f290',\n",
       " '10d0c3263b52a057']"
      ]
     },
     "execution_count": 14,
     "metadata": {},
     "output_type": "execute_result"
    }
   ],
   "source": [
    "filter_None"
   ]
  },
  {
   "cell_type": "code",
   "execution_count": 15,
   "metadata": {},
   "outputs": [
    {
     "name": "stdout",
     "output_type": "stream",
     "text": [
      "dd2be480f1027692 {'context': '\"\\n \\'\\'\\'\\'\\'\\' 2010/2013 \"', 'label': '[0 0 0 0 0 0]'}\n",
      "2db3383cc656e1a0 {'context': '~ \\n\\n68.193.147.157', 'label': '[0 0 0 0 0 0]'}\n",
      "a544b25e60599d48 {'context': '\"\\n\\n 199.209.144.211  \"', 'label': '[0 0 0 0 0 0]'}\n",
      "0bed2196c873636d {'context': '1993\\n\\n1994\\n\\n1995\\n\\n1996\\n\\n1997\\n\\n1998\\n\\n1999\\n\\n2000\\n\\n2001\\n\\n2002\\n\\n2003', 'label': '[0 0 0 0 0 0]'}\n",
      "8fb2aaf04e93061a {'context': '92.24.199.233|92.24.199.233]]', 'label': '[0 0 0 0 0 0]'}\n",
      "8c4c53001134f290 {'context': '14:53,', 'label': '[0 0 0 0 0 0]'}\n",
      "10d0c3263b52a057 {'context': '193.61.111.53  15:00', 'label': '[0 0 0 0 0 0]'}\n"
     ]
    }
   ],
   "source": [
    "with open('./train.json','r') as f_train:\n",
    "    raw_train=json.load(f_train)\n",
    "    for item in filter_None:\n",
    "        print(item,raw_train[item])"
   ]
  },
  {
   "cell_type": "code",
   "execution_count": null,
   "metadata": {},
   "outputs": [],
   "source": []
  },
  {
   "cell_type": "code",
   "execution_count": null,
   "metadata": {},
   "outputs": [],
   "source": []
  },
  {
   "cell_type": "code",
   "execution_count": null,
   "metadata": {},
   "outputs": [],
   "source": []
  },
  {
   "cell_type": "code",
   "execution_count": null,
   "metadata": {},
   "outputs": [],
   "source": []
  }
 ],
 "metadata": {
  "kernelspec": {
   "display_name": "Python 3",
   "language": "python",
   "name": "python3"
  },
  "language_info": {
   "codemirror_mode": {
    "name": "ipython",
    "version": 3
   },
   "file_extension": ".py",
   "mimetype": "text/x-python",
   "name": "python",
   "nbconvert_exporter": "python",
   "pygments_lexer": "ipython3",
   "version": "3.6.2"
  }
 },
 "nbformat": 4,
 "nbformat_minor": 2
}
